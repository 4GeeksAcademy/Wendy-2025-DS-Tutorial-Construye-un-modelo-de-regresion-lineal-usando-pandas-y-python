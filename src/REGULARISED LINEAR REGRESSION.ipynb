{
    "cells": [
        {
            "cell_type": "markdown",
            "metadata": {},
            "source": [
                "# REGULARISED LINEAR REGRESSION"
            ]
        },
        {
            "cell_type": "markdown",
            "metadata": {},
            "source": [
                "## OBJECTIVE: Discover any relationship between healtcare resources and socio-demographic data"
            ]
        },
        {
            "cell_type": "markdown",
            "metadata": {},
            "source": [
                "## 0. DATA INGESTION"
            ]
        },
        {
            "cell_type": "code",
            "execution_count": 31,
            "metadata": {},
            "outputs": [],
            "source": [
                "import pandas as pd\n",
                "import missingno as msno\n",
                "import matplotlib.pyplot as plt\n",
                "from sklearn.model_selection import train_test_split\n",
                "from sklearn.preprocessing import StandardScaler\n",
                "from sklearn.linear_model import LinearRegression, LassoCV\n",
                "import numpy as np\n",
                "from sklearn.metrics import r2_score, mean_absolute_percentage_error, median_absolute_error"
            ]
        },
        {
            "cell_type": "markdown",
            "metadata": {},
            "source": [
                "### 0.0. Bring the original data set"
            ]
        },
        {
            "cell_type": "code",
            "execution_count": 2,
            "metadata": {},
            "outputs": [],
            "source": [
                "df_health_demographic = pd.read_csv(\"https://raw.githubusercontent.com/4GeeksAcademy/regularized-linear-regression-project-tutorial/main/demographic_health_data.csv\")"
            ]
        },
        {
            "cell_type": "markdown",
            "metadata": {},
            "source": [
                "## 1. General information about the dataset:\n",
                "\n",
                "### 1.0. Shape, missing values, and data type\n"
            ]
        },
        {
            "cell_type": "code",
            "execution_count": 3,
            "metadata": {},
            "outputs": [
                {
                    "data": {
                        "text/html": [
                            "<div>\n",
                            "<style scoped>\n",
                            "    .dataframe tbody tr th:only-of-type {\n",
                            "        vertical-align: middle;\n",
                            "    }\n",
                            "\n",
                            "    .dataframe tbody tr th {\n",
                            "        vertical-align: top;\n",
                            "    }\n",
                            "\n",
                            "    .dataframe thead th {\n",
                            "        text-align: right;\n",
                            "    }\n",
                            "</style>\n",
                            "<table border=\"1\" class=\"dataframe\">\n",
                            "  <thead>\n",
                            "    <tr style=\"text-align: right;\">\n",
                            "      <th></th>\n",
                            "      <th>fips</th>\n",
                            "      <th>TOT_POP</th>\n",
                            "      <th>0-9</th>\n",
                            "      <th>0-9 y/o % of total pop</th>\n",
                            "      <th>19-Oct</th>\n",
                            "      <th>10-19 y/o % of total pop</th>\n",
                            "      <th>20-29</th>\n",
                            "      <th>20-29 y/o % of total pop</th>\n",
                            "      <th>30-39</th>\n",
                            "      <th>30-39 y/o % of total pop</th>\n",
                            "      <th>...</th>\n",
                            "      <th>COPD_number</th>\n",
                            "      <th>diabetes_prevalence</th>\n",
                            "      <th>diabetes_Lower 95% CI</th>\n",
                            "      <th>diabetes_Upper 95% CI</th>\n",
                            "      <th>diabetes_number</th>\n",
                            "      <th>CKD_prevalence</th>\n",
                            "      <th>CKD_Lower 95% CI</th>\n",
                            "      <th>CKD_Upper 95% CI</th>\n",
                            "      <th>CKD_number</th>\n",
                            "      <th>Urban_rural_code</th>\n",
                            "    </tr>\n",
                            "  </thead>\n",
                            "  <tbody>\n",
                            "    <tr>\n",
                            "      <th>0</th>\n",
                            "      <td>1001</td>\n",
                            "      <td>55601</td>\n",
                            "      <td>6787</td>\n",
                            "      <td>12.21</td>\n",
                            "      <td>7637</td>\n",
                            "      <td>13.74</td>\n",
                            "      <td>6878</td>\n",
                            "      <td>12.37</td>\n",
                            "      <td>7089</td>\n",
                            "      <td>12.75</td>\n",
                            "      <td>...</td>\n",
                            "      <td>3644</td>\n",
                            "      <td>12.90</td>\n",
                            "      <td>11.90</td>\n",
                            "      <td>13.80</td>\n",
                            "      <td>5462</td>\n",
                            "      <td>3.10</td>\n",
                            "      <td>2.90</td>\n",
                            "      <td>3.30</td>\n",
                            "      <td>1326</td>\n",
                            "      <td>3</td>\n",
                            "    </tr>\n",
                            "    <tr>\n",
                            "      <th>1</th>\n",
                            "      <td>1003</td>\n",
                            "      <td>218022</td>\n",
                            "      <td>24757</td>\n",
                            "      <td>11.36</td>\n",
                            "      <td>26913</td>\n",
                            "      <td>12.34</td>\n",
                            "      <td>23579</td>\n",
                            "      <td>10.81</td>\n",
                            "      <td>25213</td>\n",
                            "      <td>11.56</td>\n",
                            "      <td>...</td>\n",
                            "      <td>14692</td>\n",
                            "      <td>12.00</td>\n",
                            "      <td>11.00</td>\n",
                            "      <td>13.10</td>\n",
                            "      <td>20520</td>\n",
                            "      <td>3.20</td>\n",
                            "      <td>3.00</td>\n",
                            "      <td>3.50</td>\n",
                            "      <td>5479</td>\n",
                            "      <td>4</td>\n",
                            "    </tr>\n",
                            "    <tr>\n",
                            "      <th>2</th>\n",
                            "      <td>1005</td>\n",
                            "      <td>24881</td>\n",
                            "      <td>2732</td>\n",
                            "      <td>10.98</td>\n",
                            "      <td>2960</td>\n",
                            "      <td>11.90</td>\n",
                            "      <td>3268</td>\n",
                            "      <td>13.13</td>\n",
                            "      <td>3201</td>\n",
                            "      <td>12.87</td>\n",
                            "      <td>...</td>\n",
                            "      <td>2373</td>\n",
                            "      <td>19.70</td>\n",
                            "      <td>18.60</td>\n",
                            "      <td>20.60</td>\n",
                            "      <td>3870</td>\n",
                            "      <td>4.50</td>\n",
                            "      <td>4.20</td>\n",
                            "      <td>4.80</td>\n",
                            "      <td>887</td>\n",
                            "      <td>6</td>\n",
                            "    </tr>\n",
                            "    <tr>\n",
                            "      <th>3</th>\n",
                            "      <td>1007</td>\n",
                            "      <td>22400</td>\n",
                            "      <td>2456</td>\n",
                            "      <td>10.96</td>\n",
                            "      <td>2596</td>\n",
                            "      <td>11.59</td>\n",
                            "      <td>3029</td>\n",
                            "      <td>13.52</td>\n",
                            "      <td>3113</td>\n",
                            "      <td>13.90</td>\n",
                            "      <td>...</td>\n",
                            "      <td>1789</td>\n",
                            "      <td>14.10</td>\n",
                            "      <td>13.20</td>\n",
                            "      <td>14.90</td>\n",
                            "      <td>2511</td>\n",
                            "      <td>3.30</td>\n",
                            "      <td>3.10</td>\n",
                            "      <td>3.60</td>\n",
                            "      <td>595</td>\n",
                            "      <td>2</td>\n",
                            "    </tr>\n",
                            "    <tr>\n",
                            "      <th>4</th>\n",
                            "      <td>1009</td>\n",
                            "      <td>57840</td>\n",
                            "      <td>7095</td>\n",
                            "      <td>12.27</td>\n",
                            "      <td>7570</td>\n",
                            "      <td>13.09</td>\n",
                            "      <td>6742</td>\n",
                            "      <td>11.66</td>\n",
                            "      <td>6884</td>\n",
                            "      <td>11.90</td>\n",
                            "      <td>...</td>\n",
                            "      <td>4661</td>\n",
                            "      <td>13.50</td>\n",
                            "      <td>12.60</td>\n",
                            "      <td>14.50</td>\n",
                            "      <td>6017</td>\n",
                            "      <td>3.40</td>\n",
                            "      <td>3.20</td>\n",
                            "      <td>3.70</td>\n",
                            "      <td>1507</td>\n",
                            "      <td>2</td>\n",
                            "    </tr>\n",
                            "    <tr>\n",
                            "      <th>...</th>\n",
                            "      <td>...</td>\n",
                            "      <td>...</td>\n",
                            "      <td>...</td>\n",
                            "      <td>...</td>\n",
                            "      <td>...</td>\n",
                            "      <td>...</td>\n",
                            "      <td>...</td>\n",
                            "      <td>...</td>\n",
                            "      <td>...</td>\n",
                            "      <td>...</td>\n",
                            "      <td>...</td>\n",
                            "      <td>...</td>\n",
                            "      <td>...</td>\n",
                            "      <td>...</td>\n",
                            "      <td>...</td>\n",
                            "      <td>...</td>\n",
                            "      <td>...</td>\n",
                            "      <td>...</td>\n",
                            "      <td>...</td>\n",
                            "      <td>...</td>\n",
                            "      <td>...</td>\n",
                            "    </tr>\n",
                            "    <tr>\n",
                            "      <th>3135</th>\n",
                            "      <td>56037</td>\n",
                            "      <td>43051</td>\n",
                            "      <td>6104</td>\n",
                            "      <td>14.18</td>\n",
                            "      <td>6326</td>\n",
                            "      <td>14.69</td>\n",
                            "      <td>5359</td>\n",
                            "      <td>12.45</td>\n",
                            "      <td>6577</td>\n",
                            "      <td>15.28</td>\n",
                            "      <td>...</td>\n",
                            "      <td>2098</td>\n",
                            "      <td>8.90</td>\n",
                            "      <td>8.30</td>\n",
                            "      <td>9.60</td>\n",
                            "      <td>2834</td>\n",
                            "      <td>2.60</td>\n",
                            "      <td>2.40</td>\n",
                            "      <td>2.80</td>\n",
                            "      <td>821</td>\n",
                            "      <td>5</td>\n",
                            "    </tr>\n",
                            "    <tr>\n",
                            "      <th>3136</th>\n",
                            "      <td>56039</td>\n",
                            "      <td>23081</td>\n",
                            "      <td>2384</td>\n",
                            "      <td>10.33</td>\n",
                            "      <td>2185</td>\n",
                            "      <td>9.47</td>\n",
                            "      <td>2967</td>\n",
                            "      <td>12.85</td>\n",
                            "      <td>4093</td>\n",
                            "      <td>17.73</td>\n",
                            "      <td>...</td>\n",
                            "      <td>928</td>\n",
                            "      <td>7.20</td>\n",
                            "      <td>6.50</td>\n",
                            "      <td>8.00</td>\n",
                            "      <td>1360</td>\n",
                            "      <td>2.40</td>\n",
                            "      <td>2.20</td>\n",
                            "      <td>2.60</td>\n",
                            "      <td>447</td>\n",
                            "      <td>5</td>\n",
                            "    </tr>\n",
                            "    <tr>\n",
                            "      <th>3137</th>\n",
                            "      <td>56041</td>\n",
                            "      <td>20299</td>\n",
                            "      <td>3121</td>\n",
                            "      <td>15.38</td>\n",
                            "      <td>3205</td>\n",
                            "      <td>15.79</td>\n",
                            "      <td>2153</td>\n",
                            "      <td>10.61</td>\n",
                            "      <td>2702</td>\n",
                            "      <td>13.31</td>\n",
                            "      <td>...</td>\n",
                            "      <td>1163</td>\n",
                            "      <td>10.40</td>\n",
                            "      <td>9.50</td>\n",
                            "      <td>11.20</td>\n",
                            "      <td>1500</td>\n",
                            "      <td>3.00</td>\n",
                            "      <td>2.80</td>\n",
                            "      <td>3.20</td>\n",
                            "      <td>430</td>\n",
                            "      <td>5</td>\n",
                            "    </tr>\n",
                            "    <tr>\n",
                            "      <th>3138</th>\n",
                            "      <td>56043</td>\n",
                            "      <td>7885</td>\n",
                            "      <td>858</td>\n",
                            "      <td>10.88</td>\n",
                            "      <td>1113</td>\n",
                            "      <td>14.12</td>\n",
                            "      <td>715</td>\n",
                            "      <td>9.07</td>\n",
                            "      <td>903</td>\n",
                            "      <td>11.45</td>\n",
                            "      <td>...</td>\n",
                            "      <td>506</td>\n",
                            "      <td>11.30</td>\n",
                            "      <td>10.30</td>\n",
                            "      <td>12.10</td>\n",
                            "      <td>686</td>\n",
                            "      <td>3.40</td>\n",
                            "      <td>3.20</td>\n",
                            "      <td>3.70</td>\n",
                            "      <td>207</td>\n",
                            "      <td>6</td>\n",
                            "    </tr>\n",
                            "    <tr>\n",
                            "      <th>3139</th>\n",
                            "      <td>56045</td>\n",
                            "      <td>6967</td>\n",
                            "      <td>780</td>\n",
                            "      <td>11.20</td>\n",
                            "      <td>779</td>\n",
                            "      <td>11.18</td>\n",
                            "      <td>681</td>\n",
                            "      <td>9.77</td>\n",
                            "      <td>906</td>\n",
                            "      <td>13.00</td>\n",
                            "      <td>...</td>\n",
                            "      <td>480</td>\n",
                            "      <td>11.70</td>\n",
                            "      <td>10.70</td>\n",
                            "      <td>12.70</td>\n",
                            "      <td>644</td>\n",
                            "      <td>3.40</td>\n",
                            "      <td>3.10</td>\n",
                            "      <td>3.60</td>\n",
                            "      <td>185</td>\n",
                            "      <td>6</td>\n",
                            "    </tr>\n",
                            "  </tbody>\n",
                            "</table>\n",
                            "<p>3140 rows × 108 columns</p>\n",
                            "</div>"
                        ],
                        "text/plain": [
                            "       fips  TOT_POP    0-9  0-9 y/o % of total pop  19-Oct  \\\n",
                            "0      1001    55601   6787                   12.21    7637   \n",
                            "1      1003   218022  24757                   11.36   26913   \n",
                            "2      1005    24881   2732                   10.98    2960   \n",
                            "3      1007    22400   2456                   10.96    2596   \n",
                            "4      1009    57840   7095                   12.27    7570   \n",
                            "...     ...      ...    ...                     ...     ...   \n",
                            "3135  56037    43051   6104                   14.18    6326   \n",
                            "3136  56039    23081   2384                   10.33    2185   \n",
                            "3137  56041    20299   3121                   15.38    3205   \n",
                            "3138  56043     7885    858                   10.88    1113   \n",
                            "3139  56045     6967    780                   11.20     779   \n",
                            "\n",
                            "      10-19 y/o % of total pop  20-29  20-29 y/o % of total pop  30-39  \\\n",
                            "0                        13.74   6878                     12.37   7089   \n",
                            "1                        12.34  23579                     10.81  25213   \n",
                            "2                        11.90   3268                     13.13   3201   \n",
                            "3                        11.59   3029                     13.52   3113   \n",
                            "4                        13.09   6742                     11.66   6884   \n",
                            "...                        ...    ...                       ...    ...   \n",
                            "3135                     14.69   5359                     12.45   6577   \n",
                            "3136                      9.47   2967                     12.85   4093   \n",
                            "3137                     15.79   2153                     10.61   2702   \n",
                            "3138                     14.12    715                      9.07    903   \n",
                            "3139                     11.18    681                      9.77    906   \n",
                            "\n",
                            "      30-39 y/o % of total pop  ...  COPD_number  diabetes_prevalence  \\\n",
                            "0                        12.75  ...         3644                12.90   \n",
                            "1                        11.56  ...        14692                12.00   \n",
                            "2                        12.87  ...         2373                19.70   \n",
                            "3                        13.90  ...         1789                14.10   \n",
                            "4                        11.90  ...         4661                13.50   \n",
                            "...                        ...  ...          ...                  ...   \n",
                            "3135                     15.28  ...         2098                 8.90   \n",
                            "3136                     17.73  ...          928                 7.20   \n",
                            "3137                     13.31  ...         1163                10.40   \n",
                            "3138                     11.45  ...          506                11.30   \n",
                            "3139                     13.00  ...          480                11.70   \n",
                            "\n",
                            "      diabetes_Lower 95% CI  diabetes_Upper 95% CI  diabetes_number  \\\n",
                            "0                     11.90                  13.80             5462   \n",
                            "1                     11.00                  13.10            20520   \n",
                            "2                     18.60                  20.60             3870   \n",
                            "3                     13.20                  14.90             2511   \n",
                            "4                     12.60                  14.50             6017   \n",
                            "...                     ...                    ...              ...   \n",
                            "3135                   8.30                   9.60             2834   \n",
                            "3136                   6.50                   8.00             1360   \n",
                            "3137                   9.50                  11.20             1500   \n",
                            "3138                  10.30                  12.10              686   \n",
                            "3139                  10.70                  12.70              644   \n",
                            "\n",
                            "      CKD_prevalence  CKD_Lower 95% CI  CKD_Upper 95% CI  CKD_number  \\\n",
                            "0               3.10              2.90              3.30        1326   \n",
                            "1               3.20              3.00              3.50        5479   \n",
                            "2               4.50              4.20              4.80         887   \n",
                            "3               3.30              3.10              3.60         595   \n",
                            "4               3.40              3.20              3.70        1507   \n",
                            "...              ...               ...               ...         ...   \n",
                            "3135            2.60              2.40              2.80         821   \n",
                            "3136            2.40              2.20              2.60         447   \n",
                            "3137            3.00              2.80              3.20         430   \n",
                            "3138            3.40              3.20              3.70         207   \n",
                            "3139            3.40              3.10              3.60         185   \n",
                            "\n",
                            "      Urban_rural_code  \n",
                            "0                    3  \n",
                            "1                    4  \n",
                            "2                    6  \n",
                            "3                    2  \n",
                            "4                    2  \n",
                            "...                ...  \n",
                            "3135                 5  \n",
                            "3136                 5  \n",
                            "3137                 5  \n",
                            "3138                 6  \n",
                            "3139                 6  \n",
                            "\n",
                            "[3140 rows x 108 columns]"
                        ]
                    },
                    "execution_count": 3,
                    "metadata": {},
                    "output_type": "execute_result"
                }
            ],
            "source": [
                "df_health_demographic"
            ]
        },
        {
            "cell_type": "code",
            "execution_count": 4,
            "metadata": {},
            "outputs": [
                {
                    "data": {
                        "text/plain": [
                            "(3140, 108)"
                        ]
                    },
                    "execution_count": 4,
                    "metadata": {},
                    "output_type": "execute_result"
                }
            ],
            "source": [
                "df_health_demographic.shape"
            ]
        },
        {
            "cell_type": "code",
            "execution_count": 5,
            "metadata": {},
            "outputs": [
                {
                    "data": {
                        "text/plain": [
                            "fips                      0\n",
                            "TOT_POP                   0\n",
                            "0-9                       0\n",
                            "0-9 y/o % of total pop    0\n",
                            "19-Oct                    0\n",
                            "                         ..\n",
                            "CKD_prevalence            0\n",
                            "CKD_Lower 95% CI          0\n",
                            "CKD_Upper 95% CI          0\n",
                            "CKD_number                0\n",
                            "Urban_rural_code          0\n",
                            "Length: 108, dtype: int64"
                        ]
                    },
                    "execution_count": 5,
                    "metadata": {},
                    "output_type": "execute_result"
                }
            ],
            "source": [
                "missing_values = df_health_demographic.isnull().sum()\n",
                "missing_values"
            ]
        },
        {
            "cell_type": "code",
            "execution_count": 6,
            "metadata": {},
            "outputs": [
                {
                    "name": "stdout",
                    "output_type": "stream",
                    "text": [
                        "<class 'pandas.core.frame.DataFrame'>\n",
                        "RangeIndex: 3140 entries, 0 to 3139\n",
                        "Columns: 108 entries, fips to Urban_rural_code\n",
                        "dtypes: float64(61), int64(45), object(2)\n",
                        "memory usage: 2.6+ MB\n"
                    ]
                }
            ],
            "source": [
                "df_health_demographic.info()"
            ]
        },
        {
            "cell_type": "markdown",
            "metadata": {},
            "source": [
                "### 1.1. Checking for duplicates in the dataset and removing them if necessary"
            ]
        },
        {
            "cell_type": "code",
            "execution_count": 7,
            "metadata": {},
            "outputs": [
                {
                    "data": {
                        "text/plain": [
                            "np.int64(0)"
                        ]
                    },
                    "execution_count": 7,
                    "metadata": {},
                    "output_type": "execute_result"
                }
            ],
            "source": [
                "df_health_demographic.duplicated().sum()"
            ]
        },
        {
            "cell_type": "markdown",
            "metadata": {},
            "source": [
                "### 1.2. Information about number of null or empty values in each column"
            ]
        },
        {
            "cell_type": "code",
            "execution_count": 8,
            "metadata": {},
            "outputs": [
                {
                    "data": {
                        "text/plain": [
                            "fips                      0\n",
                            "TOT_POP                   0\n",
                            "0-9                       0\n",
                            "0-9 y/o % of total pop    0\n",
                            "19-Oct                    0\n",
                            "                         ..\n",
                            "CKD_prevalence            0\n",
                            "CKD_Lower 95% CI          0\n",
                            "CKD_Upper 95% CI          0\n",
                            "CKD_number                0\n",
                            "Urban_rural_code          0\n",
                            "Length: 108, dtype: int64"
                        ]
                    },
                    "execution_count": 8,
                    "metadata": {},
                    "output_type": "execute_result"
                }
            ],
            "source": [
                "df_health_demographic.isnull().sum()"
            ]
        },
        {
            "cell_type": "code",
            "execution_count": 9,
            "metadata": {},
            "outputs": [
                {
                    "data": {
                        "text/plain": [
                            "<Axes: >"
                        ]
                    },
                    "execution_count": 9,
                    "metadata": {},
                    "output_type": "execute_result"
                },
                {
                    "data": {
                        "image/png": "[encoded data removed]",
                        "text/plain": [
                            "<Figure size 2500x1000 with 2 Axes>"
                        ]
                    },
                    "metadata": {},
                    "output_type": "display_data"
                }
            ],
            "source": [
                "msno.matrix(df_health_demographic)"
            ]
        },
        {
            "cell_type": "code",
            "execution_count": 10,
            "metadata": {},
            "outputs": [
                {
                    "data": {
                        "text/plain": [
                            "fips                      0\n",
                            "TOT_POP                   0\n",
                            "0-9                       0\n",
                            "0-9 y/o % of total pop    0\n",
                            "19-Oct                    0\n",
                            "                         ..\n",
                            "CKD_prevalence            0\n",
                            "CKD_Lower 95% CI          0\n",
                            "CKD_Upper 95% CI          0\n",
                            "CKD_number                0\n",
                            "Urban_rural_code          0\n",
                            "Length: 108, dtype: int64"
                        ]
                    },
                    "execution_count": 10,
                    "metadata": {},
                    "output_type": "execute_result"
                }
            ],
            "source": [
                "df_health_demographic = df_health_demographic.fillna(df_health_demographic.mean(numeric_only = True))\n",
                "df_health_demographic.isna().sum()"
            ]
        },
        {
            "cell_type": "markdown",
            "metadata": {},
            "source": [
                "## 2. Create a regularised linear regression model:"
            ]
        },
        {
            "cell_type": "markdown",
            "metadata": {},
            "source": [
                "### 2.0. Encoding categorical variables"
            ]
        },
        {
            "cell_type": "code",
            "execution_count": 11,
            "metadata": {},
            "outputs": [],
            "source": [
                "df_encoded = pd.get_dummies(df_health_demographic, drop_first = True)"
            ]
        },
        {
            "cell_type": "markdown",
            "metadata": {},
            "source": [
                "### 2.1. Scale the data"
            ]
        },
        {
            "cell_type": "code",
            "execution_count": 12,
            "metadata": {},
            "outputs": [],
            "source": [
                "X = df_encoded.drop(columns = \"diabetes_prevalence\", axis = 1)\n",
                "y = df_encoded[\"diabetes_prevalence\"]"
            ]
        },
        {
            "cell_type": "code",
            "execution_count": 13,
            "metadata": {},
            "outputs": [
                {
                    "data": {
                        "text/plain": [
                            "((1884, 1996), (628, 1996), (628, 1996), (3140, 1996))"
                        ]
                    },
                    "execution_count": 13,
                    "metadata": {},
                    "output_type": "execute_result"
                }
            ],
            "source": [
                "training_data, temp_data = train_test_split(df_encoded, test_size = 0.4, random_state = 42)\n",
                "testing_data, anonymous_data = train_test_split(temp_data, test_size = 0.5, random_state = 42)\n",
                "training_data.shape, testing_data.shape, anonymous_data.shape, df_encoded.shape"
            ]
        },
        {
            "cell_type": "code",
            "execution_count": 14,
            "metadata": {},
            "outputs": [],
            "source": [
                "X_train = training_data.drop(columns = \"diabetes_prevalence\")\n",
                "y_train = training_data[\"diabetes_prevalence\"]\n",
                "X_test = testing_data.drop(columns = \"diabetes_prevalence\")\n",
                "y_test = testing_data[\"diabetes_prevalence\"]"
            ]
        },
        {
            "cell_type": "code",
            "execution_count": 15,
            "metadata": {},
            "outputs": [],
            "source": [
                "scaler = StandardScaler()\n",
                "X_train_scaled = scaler.fit_transform(X_train)\n",
                "X_test_scaled = scaler.transform(X_test)"
            ]
        },
        {
            "cell_type": "markdown",
            "metadata": {},
            "source": [
                "## 3. Create a linear regression model (No regularised):"
            ]
        },
        {
            "cell_type": "markdown",
            "metadata": {},
            "source": [
                "### 3.0. Data modelling and training"
            ]
        },
        {
            "cell_type": "code",
            "execution_count": 18,
            "metadata": {},
            "outputs": [],
            "source": [
                "m_linear = LinearRegression().fit(X_train_scaled, y_train)\n",
                "yhat_train_linear = m_linear.predict(X_train_scaled)\n",
                "yhat_linear = m_linear.predict(X_test_scaled)"
            ]
        },
        {
            "cell_type": "markdown",
            "metadata": {},
            "source": [
                "### 3.1. Metrics calculation"
            ]
        },
        {
            "cell_type": "code",
            "execution_count": 19,
            "metadata": {},
            "outputs": [],
            "source": [
                "def get_metrics(yhat, y_test, yhat_train, y_train):\n",
                "    metrics_train = (\n",
                "        r2_score(y_train, yhat_train),\n",
                "        median_absolute_error(y_train, yhat_train),\n",
                "        mean_absolute_percentage_error(y_train, yhat_train) * 100\n",
                "    )\n",
                "    metrics_test = (\n",
                "        r2_score(y_test, yhat),\n",
                "        median_absolute_error(y_test, yhat),\n",
                "        mean_absolute_percentage_error(y_test, yhat) * 100\n",
                "    )\n",
                "    metrics_diff = list(map(lambda x: x[1] - x[0], zip(metrics_train, metrics_test)))\n",
                "    return pd.DataFrame(\n",
                "        data=[metrics_train, metrics_test, metrics_diff],\n",
                "        columns=[\"R2\", \"Median Absolute Error\", \"Mean Absolute Percentage Error\"],\n",
                "        index=[\"Train\", \"Test\", \"Difference\"]\n",
                "    )"
            ]
        },
        {
            "cell_type": "code",
            "execution_count": 20,
            "metadata": {},
            "outputs": [
                {
                    "data": {
                        "text/html": [
                            "<div>\n",
                            "<style scoped>\n",
                            "    .dataframe tbody tr th:only-of-type {\n",
                            "        vertical-align: middle;\n",
                            "    }\n",
                            "\n",
                            "    .dataframe tbody tr th {\n",
                            "        vertical-align: top;\n",
                            "    }\n",
                            "\n",
                            "    .dataframe thead th {\n",
                            "        text-align: right;\n",
                            "    }\n",
                            "</style>\n",
                            "<table border=\"1\" class=\"dataframe\">\n",
                            "  <thead>\n",
                            "    <tr style=\"text-align: right;\">\n",
                            "      <th></th>\n",
                            "      <th>R2</th>\n",
                            "      <th>Median Absolute Error</th>\n",
                            "      <th>Mean Absolute Percentage Error</th>\n",
                            "    </tr>\n",
                            "  </thead>\n",
                            "  <tbody>\n",
                            "    <tr>\n",
                            "      <th>Train</th>\n",
                            "      <td>1.00</td>\n",
                            "      <td>0.00</td>\n",
                            "      <td>0.10</td>\n",
                            "    </tr>\n",
                            "    <tr>\n",
                            "      <th>Test</th>\n",
                            "      <td>0.96</td>\n",
                            "      <td>0.05</td>\n",
                            "      <td>1.33</td>\n",
                            "    </tr>\n",
                            "    <tr>\n",
                            "      <th>Difference</th>\n",
                            "      <td>-0.04</td>\n",
                            "      <td>0.05</td>\n",
                            "      <td>1.24</td>\n",
                            "    </tr>\n",
                            "  </tbody>\n",
                            "</table>\n",
                            "</div>"
                        ],
                        "text/plain": [
                            "              R2  Median Absolute Error  Mean Absolute Percentage Error\n",
                            "Train       1.00                   0.00                            0.10\n",
                            "Test        0.96                   0.05                            1.33\n",
                            "Difference -0.04                   0.05                            1.24"
                        ]
                    },
                    "execution_count": 20,
                    "metadata": {},
                    "output_type": "execute_result"
                }
            ],
            "source": [
                "get_metrics(yhat_linear, y_test, yhat_train_linear, y_train)"
            ]
        },
        {
            "cell_type": "markdown",
            "metadata": {},
            "source": [
                "<span style=\"color:yellow\">ATENTION: It give us R² = 1. It can not be pefect. There has been overfitting.\n",
                "\n",
                "<pan style=\"color:orange\">NOTE: The model has memorised the data. This happens when we have many variables (columns) and far fewer data points (rows).\n",
                "\n",
                "We are going to penalize (regulate) the learning\n",
                "\n",
                "C.G.W.</span>"
            ]
        },
        {
            "cell_type": "code",
            "execution_count": 21,
            "metadata": {},
            "outputs": [
                {
                    "data": {
                        "image/png": "[encoded data removed]",
                        "text/plain": [
                            "<Figure size 900x600 with 2 Axes>"
                        ]
                    },
                    "metadata": {},
                    "output_type": "display_data"
                }
            ],
            "source": [
                "plt.figure(figsize = (9, 6))\n",
                "plt.subplot(1, 2, 1)\n",
                "plt.boxplot(m_linear.coef_)\n",
                "plt.title(\"Boxplot of Coefficients - Linear Regression\")\n",
                "plt.subplot(1, 2, 2)\n",
                "plt.hist(m_linear.coef_, 5)\n",
                "plt.title(\"Histogram of Coefficients - Linear Regression\")\n",
                "plt.xlabel(\"Coefficient Value\")\n",
                "plt.ylabel(\"Total Coefficients per each range\")\n",
                "plt.tight_layout()\n",
                "plt.show()"
            ]
        },
        {
            "cell_type": "markdown",
            "metadata": {},
            "source": [
                "## 4. Create a regularised linear regression model:"
            ]
        },
        {
            "cell_type": "markdown",
            "metadata": {},
            "source": [
                "### 4.0. Perform cross-validation\n",
                "\n",
                "Let's calculate how stronly we are going to penalise learning.\n",
                "\n",
                "Let's choose the lamda with th best score."
            ]
        },
        {
            "cell_type": "code",
            "execution_count": 22,
            "metadata": {},
            "outputs": [],
            "source": [
                "m_lasso = LassoCV(alphas = np.logspace(-6, 6, 10), cv = 5, random_state = 42, n_jobs = -1).fit(X_train_scaled, y_train)\n",
                "yhat_train_lasso = m_lasso.predict(X_train_scaled)\n",
                "yhat_lasso = m_lasso.predict(X_test_scaled)"
            ]
        },
        {
            "cell_type": "markdown",
            "metadata": {},
            "source": [
                "### 4.1. Metrics Calculation"
            ]
        },
        {
            "cell_type": "code",
            "execution_count": 23,
            "metadata": {},
            "outputs": [
                {
                    "data": {
                        "text/html": [
                            "<div>\n",
                            "<style scoped>\n",
                            "    .dataframe tbody tr th:only-of-type {\n",
                            "        vertical-align: middle;\n",
                            "    }\n",
                            "\n",
                            "    .dataframe tbody tr th {\n",
                            "        vertical-align: top;\n",
                            "    }\n",
                            "\n",
                            "    .dataframe thead th {\n",
                            "        text-align: right;\n",
                            "    }\n",
                            "</style>\n",
                            "<table border=\"1\" class=\"dataframe\">\n",
                            "  <thead>\n",
                            "    <tr style=\"text-align: right;\">\n",
                            "      <th></th>\n",
                            "      <th>R2</th>\n",
                            "      <th>Median Absolute Error</th>\n",
                            "      <th>Mean Absolute Percentage Error</th>\n",
                            "    </tr>\n",
                            "  </thead>\n",
                            "  <tbody>\n",
                            "    <tr>\n",
                            "      <th>Train</th>\n",
                            "      <td>1.00</td>\n",
                            "      <td>0.04</td>\n",
                            "      <td>0.27</td>\n",
                            "    </tr>\n",
                            "    <tr>\n",
                            "      <th>Test</th>\n",
                            "      <td>1.00</td>\n",
                            "      <td>0.04</td>\n",
                            "      <td>0.29</td>\n",
                            "    </tr>\n",
                            "    <tr>\n",
                            "      <th>Difference</th>\n",
                            "      <td>0.00</td>\n",
                            "      <td>0.00</td>\n",
                            "      <td>0.01</td>\n",
                            "    </tr>\n",
                            "  </tbody>\n",
                            "</table>\n",
                            "</div>"
                        ],
                        "text/plain": [
                            "             R2  Median Absolute Error  Mean Absolute Percentage Error\n",
                            "Train      1.00                   0.04                            0.27\n",
                            "Test       1.00                   0.04                            0.29\n",
                            "Difference 0.00                   0.00                            0.01"
                        ]
                    },
                    "execution_count": 23,
                    "metadata": {},
                    "output_type": "execute_result"
                }
            ],
            "source": [
                "get_metrics(yhat_lasso, y_test, yhat_train_lasso, y_train)"
            ]
        },
        {
            "cell_type": "code",
            "execution_count": 25,
            "metadata": {},
            "outputs": [
                {
                    "data": {
                        "image/png": "[encoded data removed]",
                        "text/plain": [
                            "<Figure size 900x600 with 2 Axes>"
                        ]
                    },
                    "metadata": {},
                    "output_type": "display_data"
                }
            ],
            "source": [
                "plt.figure(figsize = (9, 6))\n",
                "plt.subplot(1, 2, 1)\n",
                "plt.boxplot(m_lasso.coef_)\n",
                "plt.title(\"Boxplot of Coefficients - LassoCV\")\n",
                "plt.subplot(1, 2, 2)\n",
                "plt.hist(m_lasso.coef_, 5)\n",
                "plt.title(\"Histogram of Coefficients - LassoCV\")\n",
                "plt.xlabel(\"Coefficient Value\")\n",
                "plt.ylabel(\"Total Coefficients per each range\")\n",
                "plt.tight_layout()\n",
                "plt.show()"
            ]
        },
        {
            "cell_type": "code",
            "execution_count": 26,
            "metadata": {},
            "outputs": [
                {
                    "data": {
                        "text/plain": [
                            "array([-0., -0., -0., ...,  0., -0.,  0.], shape=(1995,))"
                        ]
                    },
                    "execution_count": 26,
                    "metadata": {},
                    "output_type": "execute_result"
                }
            ],
            "source": [
                "m_lasso.coef_"
            ]
        },
        {
            "cell_type": "markdown",
            "metadata": {},
            "source": [
                "## 5. Conclusions"
            ]
        },
        {
            "cell_type": "markdown",
            "metadata": {},
            "source": [
                "### 5.0. Cancelated and used variables:"
            ]
        },
        {
            "cell_type": "code",
            "execution_count": 27,
            "metadata": {},
            "outputs": [
                {
                    "name": "stdout",
                    "output_type": "stream",
                    "text": [
                        "Cancelated variables percentage: 99.9%\n",
                        "The model use 2 variables out of 1995\n"
                    ]
                }
            ],
            "source": [
                "print(f\"Cancelated variables percentage: {round(len(m_lasso.coef_[np.abs(m_lasso.coef_) < 1e-4]) / len(m_lasso.coef_) * 100, 2)}%\")\n",
                "print(f\"The model use {len(m_lasso.coef_[np.abs(m_lasso.coef_) >= 1e-4])} variables out of {len(m_lasso.coef_)}\")"
            ]
        },
        {
            "cell_type": "code",
            "execution_count": 29,
            "metadata": {},
            "outputs": [
                {
                    "name": "stdout",
                    "output_type": "stream",
                    "text": [
                        "Variables used by Lasso: ['diabetes_Lower 95% CI', 'diabetes_Upper 95% CI']\n"
                    ]
                }
            ],
            "source": [
                "variables = X_train.columns\n",
                "used_variables = variables[np.abs(m_lasso.coef_) >= 1e-4]\n",
                "print(\"Variables used by Lasso:\", list(used_variables))"
            ]
        },
        {
            "cell_type": "markdown",
            "metadata": {},
            "source": [
                "### 5.1. Relationship between healtcare resources and socio-demographic data:\n",
                "\n",
                "The most important variables of the data set, with a strong relationship between healtcare resources and socio-demographic data are:\n",
                "\n",
                "- \"diabetes_prevalence\"\n",
                "- \"diabetes_Lower 95% CI\"\n",
                "- \"diabetes_Upper 95% CI\""
            ]
        }
    ],
    "metadata": {
        "kernelspec": {
            "display_name": "Python 3",
            "language": "python",
            "name": "python3"
        },
        "language_info": {
            "codemirror_mode": {
                "name": "ipython",
                "version": 3
            },
            "file_extension": ".py",
            "mimetype": "text/x-python",
            "name": "python",
            "nbconvert_exporter": "python",
            "pygments_lexer": "ipython3",
            "version": "3.11.4"
        },
        "orig_nbformat": 4
    },
    "nbformat": 4,
    "nbformat_minor": 2
}
